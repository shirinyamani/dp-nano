{
 "cells": [
  {
   "cell_type": "markdown",
   "metadata": {},
   "source": [
    "Neural Networks do ALOT of math with ALOT of data! But before we dive into designing those networks, we need to understand **how we represent that data**! This especifically means that we need to think about the potentioal **shape** that data could have! \n",
    "\n",
    "For instance, we might have a single number (175 cm) which only represent the height of the person! Or we might have 3 numbers which represents different feature of that person, like; hight,weight and age! \n",
    "\n",
    "![girl](./img/girl.png)\n",
    "\n",
    "So we describe these difference in shapes of data, in terms of their **Dimension**!\n"
   ]
  },
  {
   "cell_type": "markdown",
   "metadata": {},
   "source": []
  }
 ],
 "metadata": {
  "language_info": {
   "name": "python"
  },
  "orig_nbformat": 4
 },
 "nbformat": 4,
 "nbformat_minor": 2
}
